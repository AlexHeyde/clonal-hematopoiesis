{
 "cells": [
  {
   "cell_type": "code",
   "execution_count": 1,
   "metadata": {
    "collapsed": true
   },
   "outputs": [],
   "source": [
    "# Python code for:\n",
    "# Alexander Heyde, David Rohde, Cameron S. McAlpine, Shuang Zhang, Friedrich F. Hoyer, Jeffrey M. Gerold, David Cheek, Yoshiko Iwamoto, Maximilian J. Schloss, Katrien Vandoorne, Oriol Iborra - Egea, Christian Muñoz - Guijosa, Antoni Bayes - Genis, Johannes G. Reiter, Morgan Craig, Filip K. Swirski, Matthias Nahrendorf, Martin A. Nowak, Kamila Naxerova. \n",
    "# Increased stem cell proliferation in atherosclerosis accelerates clonal hematopoiesis."
   ]
  },
  {
   "cell_type": "code",
   "execution_count": 2,
   "metadata": {
    "collapsed": true
   },
   "outputs": [],
   "source": [
    "import numpy as np                    # mathematics\n",
    "import kingman                        # coalescence\n",
    "import seaborn as sns                 # visualization\n",
    "from matplotlib import pyplot as plt  # plotting\n",
    "%matplotlib inline"
   ]
  },
  {
   "cell_type": "code",
   "execution_count": 3,
   "metadata": {
    "collapsed": true
   },
   "outputs": [],
   "source": [
    "# Table S2\n",
    "# All time measurements in years\n",
    "b = 365/28     # Average baseline HSC proliferation rate\n",
    "age = 40       # Age of onset for elevated HSC proliferation rate\n",
    "T = 70         # Age at sequencing\n",
    "thresh1 = .02  # Detection frequency (baseline)\n",
    "thresh2 = .08  # Detection frequency (alternative)\n",
    "pop = 100000   # Number of HSCs\n",
    "mutrate = 1.5  # Mean number of neutral mutations acquired by each daughter cell per division\n",
    "\n",
    "M = 10         # Number of independent realizations\n",
    "body = 10**13  # Number of cells in the body after development\n",
    "progen = 100   # Number of HSC progenitor cells\n",
    "u = 50         # Possible mutational realizations before birth\n",
    "U = 50         # Possible mutational realizations after birth"
   ]
  },
  {
   "cell_type": "code",
   "execution_count": 4,
   "metadata": {
    "scrolled": true
   },
   "outputs": [
    {
     "name": "stdout",
     "output_type": "stream",
     "text": [
      "10\n"
     ]
    },
    {
     "name": "stdout",
     "output_type": "stream",
     "text": [
      "9\n",
      "8\n",
      "7\n",
      "6\n",
      "5\n",
      "4\n",
      "3\n",
      "2\n",
      "1\n",
      "[  1.00001000e+00   1.00000000e-05   1.00000000e-05 ...,   6.68750000e-01\n",
      "   3.31250000e-01   1.00000000e+00]\n",
      "Wall time: 20min 59s\n"
     ]
    }
   ],
   "source": [
    "%%time\n",
    "# Control cohort: neutral VAF simulations\n",
    "\n",
    "# Set distribution of proliferation rates for control cohort\n",
    "R = np.array([0.4883, 1.8066, 0.9861, 0.9861, 0.9151, 1.0966, 0.2832, 0.6453, 1.9959, 0.7968]) # from Fig 2C\n",
    "lifes = (min(T,age)+max(0,T-age)*R)*b\n",
    "x = np.array([])\n",
    "weightx = np.array([])\n",
    "\n",
    "# Simulate mutation and cell division in control patients\n",
    "nx0 = [0]*M\n",
    "nx1 = [0]*M\n",
    "nx2 = [0]*M\n",
    "for m in range(M):\n",
    "    print(M-m)\n",
    "    \n",
    "    #Simulate cell division backwards in time via coalescent\n",
    "    #np.random.seed(m)\n",
    "    life = np.random.choice(lifes)\n",
    "    outp = kingman.simulate(pop,m)\n",
    "    parents = outp[0]\n",
    "    times = np.array(outp[1])*2*pop\n",
    "    times[0] = 0\n",
    "    finalStage = life+np.log(pop/progen)+np.log(1+times*body/pop-life-np.log(pop/progen))\n",
    "    times = np.where(times < life, times, np.where(times < life+pop/progen-1, life+np.log(1+times-life), finalStage))\n",
    "    nodes = len(times)\n",
    "\n",
    "    #Determine coalescent tree structure and identify mutations\n",
    "    branch = [0]*nodes\n",
    "    branchearly = [0]*nodes\n",
    "    for n in range(1,nodes):\n",
    "        branch[n] = np.maximum(0,np.minimum(times[parents[n]],life)-times[n])\n",
    "        branchearly[n] = np.maximum(0,times[parents[n]]-np.maximum(times[n],life))\n",
    "    branch[nodes-1] = 0\n",
    "    branchearly[nodes-1] = max(0,np.log(pop/progen*body)+life-times[nodes-1])\n",
    "    #np.random.seed(m+M)\n",
    "    muts = np.random.poisson(np.array(branch)*U+np.array(branchearly)*u)\n",
    "\n",
    "    #Trace mutations down ancestry to calculate variant frequency\n",
    "    cells = [0]*nodes\n",
    "    for n in [i for i in range(len(times)) if times[i] == 0]:\n",
    "        while n > -1:\n",
    "            cells[n] = cells[n]+1\n",
    "            n = parents[n]\n",
    "    freq = np.array(cells)/pop\n",
    "    \n",
    "    #Count mutations that exceed a VAF threshold of 0, thresh1, or thresh2\n",
    "    x = np.concatenate([x, freq])\n",
    "    weightx = np.concatenate([weightx, muts])\n",
    "    nx0[m] = np.dot(freq>0, muts)\n",
    "    nx1[m] = np.dot(freq>thresh1, muts)\n",
    "    nx2[m] = np.dot(freq>thresh2, muts)\n",
    "print(x)"
   ]
  },
  {
   "cell_type": "code",
   "execution_count": 5,
   "metadata": {
    "scrolled": true
   },
   "outputs": [
    {
     "name": "stdout",
     "output_type": "stream",
     "text": [
      "10\n"
     ]
    },
    {
     "name": "stdout",
     "output_type": "stream",
     "text": [
      "9\n",
      "8\n",
      "7\n",
      "6\n",
      "5\n",
      "4\n",
      "3\n",
      "2\n",
      "1\n",
      "[  1.00001000e+00   1.00000000e-05   1.00000000e-05 ...,   6.68750000e-01\n",
      "   3.31250000e-01   1.00000000e+00]\n",
      "Wall time: 22min 11s\n"
     ]
    }
   ],
   "source": [
    "%%time\n",
    "# Disease cohort: neutral VAF simulations\n",
    "\n",
    "# Set distribution of proliferation rates for disease cohort\n",
    "R = np.array([1.9328, 2.2878, 1.6961, 3.8025, 1.4595, 3.3843, 1.7908, 3.7393, 1.9170, 2.8637]) # from Fig 2C\n",
    "lifes = (min(T,age)+max(0,T-age)*R)*b\n",
    "y = np.array([])\n",
    "weighty = np.array([])\n",
    "\n",
    "# Simulate mutation and cell division in disease patients\n",
    "ny0 = [0]*M\n",
    "ny1 = [0]*M\n",
    "ny2 = [0]*M\n",
    "for m in range(M):\n",
    "    print(M-m)\n",
    "    \n",
    "    #Simulate cell division backwards in time via coalescent\n",
    "    #np.random.seed(m)\n",
    "    life = np.random.choice(lifes)\n",
    "    outp = kingman.simulate(pop,m)\n",
    "    parents = outp[0]\n",
    "    times = np.array(outp[1])*2*pop\n",
    "    times[0] = 0\n",
    "    finalStage = life+np.log(pop/progen)+np.log(1+times*body/pop-life-np.log(pop/progen))\n",
    "    times = np.where(times < life, times, np.where(times < life+pop/progen-1, life+np.log(1+times-life), finalStage))\n",
    "    nodes = len(times)\n",
    "\n",
    "    #Determine coalescent tree structure and identify mutations\n",
    "    branch = [0]*nodes\n",
    "    branchearly = [0]*nodes\n",
    "    for n in range(1,nodes):\n",
    "        branch[n] = np.maximum(0,np.minimum(times[parents[n]],life)-times[n])\n",
    "        branchearly[n] = np.maximum(0,times[parents[n]]-np.maximum(times[n],life))\n",
    "    branch[nodes-1] = 0\n",
    "    branchearly[nodes-1] = max(0,np.log(pop/progen*body)+life-times[nodes-1])\n",
    "    np.random.seed(m+M)\n",
    "    muts = np.random.poisson(np.array(branch)*U+np.array(branchearly)*u)\n",
    "\n",
    "    #Trace mutations down ancestry to calculate variant frequency\n",
    "    cells = [0]*nodes\n",
    "    for n in [i for i in range(len(times)) if times[i] == 0]:\n",
    "        while n > -1:\n",
    "            cells[n] = cells[n]+1\n",
    "            n = parents[n]\n",
    "    freq = np.array(cells)/pop\n",
    "    \n",
    "    #Count mutations that exceed a VAF threshold of 0, thresh1, or thresh2\n",
    "    y = np.concatenate([y, freq])\n",
    "    weighty = np.concatenate([weighty, muts])    \n",
    "    ny0[m] = np.dot(freq>0, muts)\n",
    "    ny1[m] = np.dot(freq>thresh1, muts)\n",
    "    ny2[m] = np.dot(freq>thresh2, muts)\n",
    "print(y)"
   ]
  },
  {
   "cell_type": "code",
   "execution_count": 6,
   "metadata": {},
   "outputs": [
    {
     "data": {
      "text/plain": [
       "<matplotlib.legend.Legend at 0x2350bbbad30>"
      ]
     },
     "execution_count": 6,
     "metadata": {},
     "output_type": "execute_result"
    },
    {
     "data": {
      "image/png": "[encoded data removed]",
      "text/plain": [
       "<matplotlib.figure.Figure at 0x23509e93eb8>"
      ]
     },
     "metadata": {},
     "output_type": "display_data"
    }
   ],
   "source": [
    "# Plot VAF spectrum (fn various axis scalings\n",
    "\n",
    "fig, axs = plt.subplots(2,2, figsize=(15,10))\n",
    "\n",
    "# Linear-linear\n",
    "binx = np.linspace(0, .01, 50)\n",
    "axs[0,0].hist(x/2, edgecolor='black', bins=binx, weights=weightx/(M*u/mutrate), log=False, alpha=.6)\n",
    "axs[0,0].hist(y/2, edgecolor='black', bins=binx, weights=weighty/(M*u/mutrate), log=False, alpha=.6)\n",
    "sns.despine()\n",
    "axs[0,0].set_xlabel(\"Neutral VAF\")\n",
    "axs[0,0].set_ylabel(\"Number of neutral mutations\")\n",
    "axs[0,0].legend(['Healthy','Elevated'])\n",
    "\n",
    "# Log-linear\n",
    "binx = np.power(10,np.linspace(-np.log10(pop), np.log10(.5), 30))\n",
    "xhist = axs[0,1].hist(x/2, edgecolor='black', bins=binx, weights=weightx/(M*u/mutrate), log=False, alpha=.6)\n",
    "yhist = axs[0,1].hist(y/2, edgecolor='black', bins=binx, weights=weighty/(M*u/mutrate), log=False, alpha=.6)\n",
    "sns.despine()\n",
    "axs[0,1].set_xscale('log')\n",
    "axs[0,1].set_xlabel(\"Neutral VAF\")\n",
    "axs[0,1].set_ylabel(\"Number of neutral mutations\")\n",
    "axs[0,1].legend(['Healthy','Elevated'])\n",
    "\n",
    "# Linear-Log\n",
    "binx = np.linspace(0, .1, 50)\n",
    "axs[1,0].hist(x/2, edgecolor='black', bins=binx, weights=weightx/(M*u/mutrate), log=True, alpha=.6)\n",
    "axs[1,0].hist(y/2, edgecolor='black', bins=binx, weights=weighty/(M*u/mutrate), log=True, alpha=.6)\n",
    "sns.despine()\n",
    "axs[1,0].set_xlabel(\"Neutral VAF\")\n",
    "axs[1,0].set_ylabel(\"Number of neutral mutations\")\n",
    "axs[1,0].legend(['Healthy','Elevated'])\n",
    "\n",
    "# Log-Log\n",
    "binx = np.power(10,np.linspace(-np.log10(pop), np.log10(.5), 30))\n",
    "axs[1,1].hist(x/2, edgecolor='black', bins=binx, weights=weightx/(M*u/mutrate), log=True, alpha=.6)\n",
    "axs[1,1].hist(y/2, edgecolor='black', bins=binx, weights=weighty/(M*u/mutrate), log=True, alpha=.6)\n",
    "sns.despine()\n",
    "axs[1,1].set_xscale('log')\n",
    "axs[1,1].set_xlabel(\"Neutral VAF\")\n",
    "axs[1,1].set_ylabel(\"Number of neutral mutations\")\n",
    "axs[1,1].legend(['Healthy','Elevated'])"
   ]
  },
  {
   "cell_type": "code",
   "execution_count": 7,
   "metadata": {},
   "outputs": [
    {
     "data": {
      "image/png": "[encoded data removed]",
      "text/plain": [
       "<matplotlib.figure.Figure at 0x2350f428f98>"
      ]
     },
     "metadata": {},
     "output_type": "display_data"
    }
   ],
   "source": [
    "# Plot ratio of neutral variants between disease and control cohorts (Figure 4, bottom row)\n",
    "yx_ratio = yhist[0] / xhist[0]\n",
    "fig, ax = plt.subplots(figsize=(7.5,5))\n",
    "ax.bar(range(len(yx_ratio)), yx_ratio)\n",
    "sns.despine()\n",
    "ax.set_xlabel(\"Ratio\")\n",
    "ax.set_ylabel(\"Neutral VAF\")\n",
    "ax.set_yscale(\"log\")"
   ]
  }
 ],
 "metadata": {
  "kernelspec": {
   "display_name": "Python 3",
   "language": "python",
   "name": "python3"
  },
  "language_info": {
   "codemirror_mode": {
    "name": "ipython",
    "version": 3
   },
   "file_extension": ".py",
   "mimetype": "text/x-python",
   "name": "python",
   "nbconvert_exporter": "python",
   "pygments_lexer": "ipython3",
   "version": "3.6.1"
  }
 },
 "nbformat": 4,
 "nbformat_minor": 2
}
